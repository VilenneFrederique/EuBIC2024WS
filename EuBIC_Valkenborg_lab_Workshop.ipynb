{
  "nbformat": 4,
  "nbformat_minor": 0,
  "metadata": {
    "colab": {
      "provenance": [],
      "authorship_tag": "ABX9TyPx03uYJ1VWUTYrAmik7ZUf",
      "include_colab_link": true
    },
    "kernelspec": {
      "name": "ir",
      "display_name": "R"
    },
    "language_info": {
      "name": "R"
    }
  },
  "cells": [
    {
      "cell_type": "markdown",
      "metadata": {
        "id": "view-in-github",
        "colab_type": "text"
      },
      "source": [
        "<a href=\"https://colab.research.google.com/github/VilenneFrederique/EuBIC2024WS/blob/main/EuBIC_Valkenborg_lab_Workshop.ipynb\" target=\"_parent\"><img src=\"https://colab.research.google.com/assets/colab-badge.svg\" alt=\"Open In Colab\"/></a>"
      ]
    },
    {
      "cell_type": "markdown",
      "source": [
        "# EuBIC Winterschool 2024 Valkenborg lab Workshop"
      ],
      "metadata": {
        "id": "PQYrWy1KN-hm"
      }
    },
    {
      "cell_type": "markdown",
      "source": [
        "During todays session we will be exploring several tools developed the Valkenborg lab from UHasselt, Belgium. These tools are mostly focused on the MS1 layer of mass spectrometry-based proteomics. For each tool, we will be giving a short introductory presentation of 15 minutes to give a general idea about the corresponding tools. Each presentation is followed by a 30 minute workshop to acquire some hands-on experience. The syntax used is R. The following tools will be discussed:\n",
        "\n",
        "\n",
        "\n",
        "*   BRAIN: BRAIN, or Baffling Recursive Algorithm for Isotopic distributioN is an algorithm to accurately calculate the aggregated isotope distribution from an elemental composition using a polynomial method.\n",
        "*   Pointless4Peptides: Pointless4Peptides is a novel algorithm to predict the isotope distribution of average peptides based on their monoisotopic mass. Employing penalized spline regression to model the isotope distribution as a function of the monoisotopic mass. The combination of a compositional data representation with penalized spline regression offers a precise and flexible\n",
        "method to model the isotope probabilities. Additionally, acknowledging the importance of Sulphur in the isotope distribution, the model allows for highly accurate detection of Sulphur present in the molecule.\n",
        "*   MIND: MIND or MonoIsotopic liNear preDictor is a framework to accurately predict the monoistopic mass of a precursor peptide, utilizing the most abundant isotope peak.\n",
        "*   QCQuan: QCQuan is an online web application that automatically provides the user with an exploratory and quality control analysis and a differential expression analysis of a quantitative label-based proteomics experiment.\n",
        "\n",
        "\n"
      ],
      "metadata": {
        "id": "1JzZcNIHOIEj"
      }
    },
    {
      "cell_type": "markdown",
      "source": [
        "## Packages"
      ],
      "metadata": {
        "id": "KEQwzrOfR83x"
      }
    },
    {
      "cell_type": "markdown",
      "source": [
        "We start out by loading several packages used throughout the workshops. As they aren't the main focus of this workshop, we will only shortly elaborate their functionality.\n",
        "\n",
        "\n",
        "*   Tidyverse: Tidyverse is a collection of packages with the core message: \"Making data science easier\". It contains packages to facilitate importing data types, data wrangling, visualisations and exporting data.  \n",
        "*   Phylotools: Phylotools is a collection of tools to work with FASTA files for example. We primarily will use it to read the FASTA files.\n",
        "\n"
      ],
      "metadata": {
        "id": "MNPYbhzhSUOg"
      }
    },
    {
      "cell_type": "code",
      "execution_count": 11,
      "metadata": {
        "colab": {
          "base_uri": "https://localhost:8080/"
        },
        "id": "-AojML1zMvBw",
        "outputId": "af3b8009-b40c-4b9c-93c8-12fb414899b1"
      },
      "outputs": [
        {
          "output_type": "stream",
          "name": "stderr",
          "text": [
            "Installing package into ‘/usr/local/lib/R/site-library’\n",
            "(as ‘lib’ is unspecified)\n",
            "\n"
          ]
        }
      ],
      "source": [
        "# Installation of packages\n",
        "install.packages(\"phylotools\")\n",
        "\n",
        "# Loading packages\n",
        "library(tidyverse)\n",
        "library(phylotools)\n",
        "\n",
        "# Our seed for sampling\n",
        "set.seed(2024)"
      ]
    },
    {
      "cell_type": "markdown",
      "source": [
        "# BRAIN"
      ],
      "metadata": {
        "id": "PDUMC0bQUB1E"
      }
    },
    {
      "cell_type": "markdown",
      "source": [
        "## Presentation"
      ],
      "metadata": {
        "id": "9ZyIaWlDnyZH"
      }
    },
    {
      "cell_type": "markdown",
      "source": [
        "Link towards PPT-Presentation:\n",
        "\n",
        "Link"
      ],
      "metadata": {
        "id": "thtE1uNwnqfV"
      }
    },
    {
      "cell_type": "markdown",
      "source": [
        "## Workshop"
      ],
      "metadata": {
        "id": "KfKY28Lnn26U"
      }
    },
    {
      "cell_type": "markdown",
      "source": [
        "First of all, BRAIN was compiled as an R-package, easily installable. An in-depth documantation can be found on:\n",
        "\n",
        "https://www.bioconductor.org/packages/release/bioc/manuals/BRAIN/man/BRAIN.pdf\n",
        "\n",
        "As a short reiteration:\n",
        "BRAIN uses an algebraic approach to calculate the aggregated isotope distribution and masses for each aggregated isotopic variant for chemical components built from carbon, hydrogen, oxygen, nitrogen and sulfur such as peptides.\n",
        "\n",
        "BRAIN can easily be installed through the command below. Depending on your computer, this may take several minutes.\n"
      ],
      "metadata": {
        "id": "WpaTuabvn59m"
      }
    },
    {
      "cell_type": "code",
      "source": [
        "if (!require(\"BiocManager\", quietly = TRUE))\n",
        "    install.packages(\"BiocManager\")\n",
        "\n",
        "BiocManager::install(\"BRAIN\")\n",
        "\n",
        "library(BRAIN)"
      ],
      "metadata": {
        "colab": {
          "base_uri": "https://localhost:8080/"
        },
        "id": "RHA_oc679U7i",
        "outputId": "b1747368-e8e6-42c9-caea-7f7c717b5b50"
      },
      "execution_count": 20,
      "outputs": [
        {
          "output_type": "stream",
          "name": "stderr",
          "text": [
            "Installing package into ‘/usr/local/lib/R/site-library’\n",
            "(as ‘lib’ is unspecified)\n",
            "\n",
            "'getOption(\"repos\")' replaces Bioconductor standard repositories, see\n",
            "'help(\"repositories\", package = \"BiocManager\")' for details.\n",
            "Replacement repositories:\n",
            "    CRAN: https://cran.rstudio.com\n",
            "\n",
            "Bioconductor version 3.18 (BiocManager 1.30.22), R 4.3.2 (2023-10-31)\n",
            "\n",
            "Installing package(s) 'BiocVersion', 'BRAIN'\n",
            "\n",
            "also installing the dependencies ‘bitops’, ‘zlibbioc’, ‘RCurl’, ‘GenomeInfoDbData’, ‘BiocGenerics’, ‘S4Vectors’, ‘IRanges’, ‘XVector’, ‘GenomeInfoDb’, ‘PolynomF’, ‘Biostrings’\n",
            "\n",
            "\n",
            "Old packages: 'bit', 'bslib', 'cpp11', 'curl', 'devtools', 'gargle', 'gert',\n",
            "  'haven', 'highr', 'isoband', 'jsonlite', 'openssl', 'ragg', 'roxygen2',\n",
            "  'sass', 'scales', 'testthat', 'textshaping', 'vctrs', 'vroom', 'whisker',\n",
            "  'xml2', 'boot', 'cluster', 'Matrix', 'nlme', 'rpart'\n",
            "\n"
          ]
        }
      ]
    },
    {
      "cell_type": "markdown",
      "source": [
        "We will shortly iterate over several of the key-functionalities of the package during the workshop and demonstrate it on a theoretical dataset.\n",
        "\n",
        "As a theoretical dataset, we start out by performing an in-silico digestion of the entire UNIPROT database of canonical human reviewed proteins using trypsin [1]. The human proteome contains 20.428 proteins (01/12/2023).\n",
        "All sequences are available in a FASTA-format on the GitHub page and can be loaded using the code chunk below. In order to save computational time, we will randomly sample 1.000 proteins using the seed \"2024\". We exclude peptides containing selenocysteine.\n",
        "\n",
        "\n",
        "---\n",
        "\n",
        "**UNIPROT reference:**\n",
        "\n",
        "Bateman, A., Martin, M., Orchard, S., Magrane, M., Ahmad, S., Alpi, E., Bowler-Barnett, E., Britto, R., Bye-A-Jee, H., Cukura, A., Denny, P., Doğan, T., Ebenezer, T. E., Fan, J., Garmiri, P., Gonzales, L., Hatton-Ellis, E., Hussein, A., Ignatchenko, A., . . . Sundaram, S. (2022). UniProt: The Universal Protein Knowledgebase in 2023. Nucleic Acids Research, 51(D1), D523–D531. https://doi.org/10.1093/nar/gkac1052"
      ],
      "metadata": {
        "id": "-toq1O2c_GdR"
      }
    },
    {
      "cell_type": "code",
      "source": [
        "Human_proteome <- phylotools::read.fasta(\"https://raw.githubusercontent.com/VilenneFrederique/EuBIC2024WS/main/uniprotkb_Human_AND_model_organism_9606_2023_12_01.fasta\")\n",
        "Human_proteome <- Human_proteome$seq.text\n",
        "# Find indices of elements containing the letter 'U'\n",
        "indices_to_remove <- grep(\"U\", Human_proteome)\n",
        "\n",
        "# Remove elements containing 'U'\n",
        "Human_proteome <- Human_proteome[-indices_to_remove]\n",
        "length(Human_proteome)"
      ],
      "metadata": {
        "id": "MJqtbLs3TMlG",
        "colab": {
          "base_uri": "https://localhost:8080/",
          "height": 34
        },
        "outputId": "43dc4abb-bcdb-4bfe-9934-c4b2b497ee45"
      },
      "execution_count": 27,
      "outputs": [
        {
          "output_type": "display_data",
          "data": {
            "text/html": [
              "20403"
            ],
            "text/markdown": "20403",
            "text/latex": "20403",
            "text/plain": [
              "[1] 20403"
            ]
          },
          "metadata": {}
        }
      ]
    },
    {
      "cell_type": "code",
      "source": [
        "Human_proteome_sampled <- sample(Human_proteome, size = 1000, replace = FALSE)\n",
        "length(Human_proteome_sampled)"
      ],
      "metadata": {
        "colab": {
          "base_uri": "https://localhost:8080/",
          "height": 34
        },
        "id": "LntyCD5A3sV6",
        "outputId": "8ad3ef00-c90b-4826-d7e3-9cf39e0c0d75"
      },
      "execution_count": 28,
      "outputs": [
        {
          "output_type": "display_data",
          "data": {
            "text/html": [
              "1000"
            ],
            "text/markdown": "1000",
            "text/latex": "1000",
            "text/plain": [
              "[1] 1000"
            ]
          },
          "metadata": {}
        }
      ]
    },
    {
      "cell_type": "markdown",
      "source": [
        "The first step in analysing our theoretical dataset is doing a tryptic digest on the human proteome data.\n",
        "Trypsin is a protease, meaning it cleaves proteins at specific points in the amino-acid sequence. Trypsin cleaves after Lysine and Arginine, except when followed by proline, commonly denoted as [RK].\\<P>. Within the setting of MS-based proteomics, trypsin is the most commonly used protease due to several reasons:\n",
        "\n",
        "\n",
        "\n",
        "*   Trypsin is highly efficient and specific in its cleavage, which makes the peptide fragments highly reproducible.\n",
        "*   The peptides generated by trypsin are highly suitable for mass spectrometry. The peptides have a good distribution of sizes, enhancing identification of mass spectra.\n",
        "*   Most database search engines are biased towards the identification of tryptic peptides.\n",
        "*   It is the golden standard of the proteomics community.\n",
        "\n",
        "The function below performs a tryptic digest on a peptide sequence."
      ],
      "metadata": {
        "id": "Kkcz7BTwnUyQ"
      }
    },
    {
      "cell_type": "code",
      "source": [
        "# Function to perform tryptic digest on a single peptide sequence\n",
        "tryptic_digest <- function(peptide) {\n",
        "  # Use gsub to replace K or R with a space if they are not followed by P\n",
        "  cleaved_peptides <- gsub(\"(K|R)(?!P)\", \"\\\\1 \", peptide, perl = TRUE)\n",
        "\n",
        "  # Split the modified peptide into fragments\n",
        "  fragments <- unlist(strsplit(cleaved_peptides, \" \"))\n",
        "\n",
        "  # Remove empty strings from the fragments\n",
        "  fragments <- fragments[nchar(fragments) > 0]\n",
        "\n",
        "  return(fragments)\n",
        "}"
      ],
      "metadata": {
        "id": "_Mvm3v-i2OEm"
      },
      "execution_count": 29,
      "outputs": []
    },
    {
      "cell_type": "code",
      "source": [
        "# Apply tryptic_digest function to each peptide in the vector\n",
        "Human_peptides <- lapply(Human_proteome_sampled, tryptic_digest)\n",
        "\n",
        "# Flatten the list of lists into a single vector\n",
        "Human_peptides <- unlist(Human_peptides)\n",
        "\n",
        "# Number of peptides\n",
        "length(Human_peptides)"
      ],
      "metadata": {
        "colab": {
          "base_uri": "https://localhost:8080/",
          "height": 34
        },
        "id": "HA79w94f4RYk",
        "outputId": "6096dced-dd91-406a-ee91-c0e0ee15ccff"
      },
      "execution_count": 30,
      "outputs": [
        {
          "output_type": "display_data",
          "data": {
            "text/html": [
              "61691"
            ],
            "text/markdown": "61691",
            "text/latex": "61691",
            "text/plain": [
              "[1] 61691"
            ]
          },
          "metadata": {}
        }
      ]
    },
    {
      "cell_type": "markdown",
      "source": [
        "The tryptic digest on the 1.000 human proteins results into 61.691 tryptic peptides. However, this contains duplicate peptides. We will only work with unique peptides to avoid redundancy."
      ],
      "metadata": {
        "id": "cbXHxAIf4RD8"
      }
    },
    {
      "cell_type": "code",
      "source": [
        "Human_peptides_unique <- unique(Human_peptides)\n",
        "length(Human_peptides_unique)"
      ],
      "metadata": {
        "colab": {
          "base_uri": "https://localhost:8080/",
          "height": 34
        },
        "id": "eUBMdouc5veY",
        "outputId": "fafbc4b5-bc94-45d7-c7dd-5fecec81427f"
      },
      "execution_count": 31,
      "outputs": [
        {
          "output_type": "display_data",
          "data": {
            "text/html": [
              "39579"
            ],
            "text/markdown": "39579",
            "text/latex": "39579",
            "text/plain": [
              "[1] 39579"
            ]
          },
          "metadata": {}
        }
      ]
    },
    {
      "cell_type": "markdown",
      "source": [
        "As observed, out of 61.691 peptides, only 39.579 were unique peptides. This means that approximately 36% were duplicates and redundant.\n",
        "\n",
        "Now we have our theoretical dataset ready, we will start out with exploring several key functionalities of BRAIN. To start off, while we will be working within a dataframe setting, BRAIN requires lists and vectors, hence information is extracted from the dataframe and added back to it in each for loop. As for the BRAIN related functions:\n",
        "\n",
        "\n",
        "*   getAtomsFromSeq: The function computing an atomic composition from (naturally occuring) amino acid sequence. It only allows for the 20 naturally occuring amino acids.\n",
        "*   calculateMonoisotopicMass: The function calculates the monoisotopic mass given an amino acid sequence.\n",
        "*   calculateAverageMass: The function calculates the average mass given an amino acid sequence.\n",
        "*   useBrain: The function computes the probabilities of isotopic variants and their aggregated masses for chemical components composed of carbon, hydrogen, oxygen, nitrogen and sulfur (e.g. peptides). Additionally the function returns also the monoisotopic mass and the average mass of given chemical\n",
        "component.\n",
        "\n",
        "The entire code should take less than 5 minutes for almost 40.000 peptides.\n"
      ],
      "metadata": {
        "id": "olWUNGcq7onh"
      }
    },
    {
      "cell_type": "code",
      "source": [
        "Human_peptides_DF <- data.frame(\"Peptides\" = Human_peptides_unique)\n",
        "\n",
        "Human_peptides_DF[\"AAComp\"] <- NA\n",
        "Human_peptides_DF[\"Monoisotopic Mass\"] <- NA\n",
        "Human_peptides_DF[\"Average Mass\"] <- NA\n",
        "Human_peptides_DF[\"Carbons\"] <- NA\n",
        "Human_peptides_DF[\"Hydrogens\"] <- NA\n",
        "Human_peptides_DF[\"Oxygens\"] <- NA\n",
        "Human_peptides_DF[\"Nitrogens\"] <- NA\n",
        "Human_peptides_DF[\"Sulphurs\"] <- NA\n",
        "Human_peptides_DF[\"BRAINMassPeak1\"] <- NA\n",
        "Human_peptides_DF[\"BRAINMassPeak2\"] <- NA\n",
        "Human_peptides_DF[\"BRAINMassPeak3\"] <- NA\n",
        "Human_peptides_DF[\"BRAINMassPeak4\"] <- NA\n",
        "Human_peptides_DF[\"BRAINMassPeak5\"] <- NA\n",
        "Human_peptides_DF[\"BRAINRelativeIsotopePeak1Intensity\"] <- NA\n",
        "Human_peptides_DF[\"BRAINRelativeIsotopePeak2Intensity\"] <- NA\n",
        "Human_peptides_DF[\"BRAINRelativeIsotopePeak3Intensity\"] <- NA\n",
        "Human_peptides_DF[\"BRAINRelativeIsotopePeak4Intensity\"] <- NA\n",
        "Human_peptides_DF[\"BRAINRelativeIsotopePeak5Intensity\"] <- NA\n",
        "\n",
        "for(index in 1:nrow(Human_peptides_DF)){\n",
        "  # Extract information from dataframe required\n",
        "  Peptide <- Human_peptides_DF[[index, \"Peptides\"]]\n",
        "  # Firstly, we calculate the atomic composition of a peptide sequence and store the results into our dataframe\n",
        "  AAComp <- getAtomsFromSeq(Peptide)\n",
        "  Human_peptides_DF[index, \"Carbons\"] <- AAComp[[\"C\"]]\n",
        "  Human_peptides_DF[index, \"Hydrogens\"] <- AAComp[[\"H\"]]\n",
        "  Human_peptides_DF[index, \"Oxygens\"] <- AAComp[[\"O\"]]\n",
        "  Human_peptides_DF[index, \"Nitrogens\"] <- AAComp[[\"N\"]]\n",
        "  Human_peptides_DF[index, \"Sulphurs\"] <- AAComp[[\"S\"]]\n",
        "  Human_peptides_DF[index, \"AAComp\"] <- paste0(\"C\", AAComp[[\"C\"]], \"H\", AAComp[[\"H\"]], \"O\", AAComp[[\"O\"]], \"N\", AAComp[[\"N\"]], \"S\", AAComp[[\"S\"]])\n",
        "  # Using the amino composition, we can calculate the monoisotopic and average mass\n",
        "  Human_peptides_DF[index, \"Monoisotopic Mass\"] <- calculateMonoisotopicMass(AAComp)\n",
        "  Human_peptides_DF[index, \"Average Mass\"] <- calculateAverageMass(AAComp)\n",
        "  # Lastly, we will calculate the probabilities of aggregated isotopic variants\n",
        "  BRAINResults <- useBRAIN(aC = AAComp, stopOption=\"nrPeaks\", nrPeaks = 5)\n",
        "  Human_peptides_DF[\"BRAINMassPeak1\"] <- BRAINResults[[\"masses\"]][1]\n",
        "  Human_peptides_DF[\"BRAINMassPeak2\"] <- BRAINResults[[\"masses\"]][2]\n",
        "  Human_peptides_DF[\"BRAINMassPeak3\"] <- BRAINResults[[\"masses\"]][3]\n",
        "  Human_peptides_DF[\"BRAINMassPeak4\"] <- BRAINResults[[\"masses\"]][4]\n",
        "  Human_peptides_DF[\"BRAINMassPeak5\"] <- BRAINResults[[\"masses\"]][5]\n",
        "  Human_peptides_DF[\"BRAINRelativeIsotopePeak1Intensity\"] <- BRAINResults[[\"isoDistr\"]][1]\n",
        "  Human_peptides_DF[\"BRAINRelativeIsotopePeak2Intensity\"] <- BRAINResults[[\"isoDistr\"]][2]\n",
        "  Human_peptides_DF[\"BRAINRelativeIsotopePeak3Intensity\"] <- BRAINResults[[\"isoDistr\"]][3]\n",
        "  Human_peptides_DF[\"BRAINRelativeIsotopePeak4Intensity\"] <- BRAINResults[[\"isoDistr\"]][4]\n",
        "  Human_peptides_DF[\"BRAINRelativeIsotopePeak5Intensity\"] <- BRAINResults[[\"isoDistr\"]][5]\n",
        "}"
      ],
      "metadata": {
        "id": "hP97ZjCr9Qgc"
      },
      "execution_count": 33,
      "outputs": []
    },
    {
      "cell_type": "markdown",
      "source": [
        "Now BRAIN has completed all calculations, it is time to explore the corresponding results. As a starter, we will start out by visualising the distribution of monoisotopic masses.\n",
        "\n",
        "As you can observe, most masses are centered between 0 and 2500 Daltons, so even while working with unique peptides, our masses are still highly similar or even identical.\n"
      ],
      "metadata": {
        "id": "H-kQ8yxTc9f4"
      }
    },
    {
      "cell_type": "code",
      "source": [
        "Human_peptides_DF %>%\n",
        "  ggplot(aes(x = `Monoisotopic Mass`)) +\n",
        "  geom_histogram(fill = \"green\", alpha = 0.5) +\n",
        "  xlim(0, 10000) +\n",
        "  theme_minimal()"
      ],
      "metadata": {
        "colab": {
          "base_uri": "https://localhost:8080/",
          "height": 524
        },
        "id": "3P0C_1cUdPv8",
        "outputId": "deaeacd8-3b0b-4746-8f4e-5e46e89677d6"
      },
      "execution_count": 40,
      "outputs": [
        {
          "output_type": "stream",
          "name": "stderr",
          "text": [
            "\u001b[1m\u001b[22m`stat_bin()` using `bins = 30`. Pick better value with `binwidth`.\n",
            "Warning message:\n",
            "“\u001b[1m\u001b[22mRemoved 47 rows containing non-finite values (`stat_bin()`).”\n",
            "Warning message:\n",
            "“\u001b[1m\u001b[22mRemoved 2 rows containing missing values (`geom_bar()`).”\n"
          ]
        },
        {
          "output_type": "display_data",
          "data": {
            "text/plain": [
              "plot without title"
            ],
            "image/png": "[encoded data removed]"
          },
          "metadata": {
            "image/png": {
              "width": 420,
              "height": 420
            }
          }
        }
      ]
    },
    {
      "cell_type": "markdown",
      "source": [
        "And to make things even more complicated, a mass spectrometer has small measurement errors. Let's visualise a potential mass offset of 0.5 Daltons for each peptide.\n",
        "\n",
        "You can see that more and more masses start to overlap each other. Solely depending on the mass to identify peptides is simply not an option. Why is this the case you may ask?\n",
        "\n",
        "Let's look a little bit further into these results."
      ],
      "metadata": {
        "id": "g84ikmgWeTZy"
      }
    },
    {
      "cell_type": "code",
      "source": [
        "Human_peptides_DF %>%\n",
        "  select(`Monoisotopic Mass`) %>%\n",
        "  mutate(\"Offset -1 Dalton\" = `Monoisotopic Mass` - 1,\n",
        "         \"Offset +1 Dalton\" = `Monoisotopic Mass` + 1) %>%\n",
        "  gather(key = \"Mass type\", value = \"Mass\", 1:3) %>%\n",
        "  ggplot(aes(x = Mass, fill = `Mass type`)) +\n",
        "  geom_histogram(alpha = 0.5) +\n",
        "  theme_minimal() +\n",
        "  xlim(0, 10000) +\n",
        "  scale_fill_manual(values = c(\"green\", \"mediumblue\", \"red2\"))"
      ],
      "metadata": {
        "colab": {
          "base_uri": "https://localhost:8080/",
          "height": 524
        },
        "id": "yi2dDImLeSwg",
        "outputId": "896ef6ea-f3e0-4f64-bc3d-4992a558a72d"
      },
      "execution_count": 48,
      "outputs": [
        {
          "output_type": "stream",
          "name": "stderr",
          "text": [
            "\u001b[1m\u001b[22m`stat_bin()` using `bins = 30`. Pick better value with `binwidth`.\n",
            "Warning message:\n",
            "“\u001b[1m\u001b[22mRemoved 141 rows containing non-finite values (`stat_bin()`).”\n",
            "Warning message:\n",
            "“\u001b[1m\u001b[22mRemoved 6 rows containing missing values (`geom_bar()`).”\n"
          ]
        },
        {
          "output_type": "display_data",
          "data": {
            "text/plain": [
              "plot without title"
            ],
            "image/png": "[encoded data removed]"
          },
          "metadata": {
            "image/png": {
              "width": 420,
              "height": 420
            }
          }
        }
      ]
    },
    {
      "cell_type": "markdown",
      "source": [
        "One of the reasons here is that even though we are working with unique peptide sequences, their atomic compositions are not! While we have 39.579 peptide sequences, the amount of unique atomic compositions is significantly lower."
      ],
      "metadata": {
        "id": "jPZh9yeMgXJy"
      }
    },
    {
      "cell_type": "code",
      "source": [
        "Atomic_Comp <- Human_peptides_DF$AAComp\n",
        "length(Atomic_Comp)"
      ],
      "metadata": {
        "colab": {
          "base_uri": "https://localhost:8080/",
          "height": 34
        },
        "id": "NODBRX3lgiCX",
        "outputId": "9e19dd4b-a48d-4208-af75-e873c8a29a41"
      },
      "execution_count": 50,
      "outputs": [
        {
          "output_type": "display_data",
          "data": {
            "text/html": [
              "39579"
            ],
            "text/markdown": "39579",
            "text/latex": "39579",
            "text/plain": [
              "[1] 39579"
            ]
          },
          "metadata": {}
        }
      ]
    },
    {
      "cell_type": "markdown",
      "source": [
        "As you can see, approximately 25% of all the atomic compositions were replicates with identical masses."
      ],
      "metadata": {
        "id": "bRLkWEq2oeIn"
      }
    },
    {
      "cell_type": "code",
      "source": [
        "Atomic_Comp_Unique <- unique(Atomic_Comp)\n",
        "length(Atomic_Comp_Unique)"
      ],
      "metadata": {
        "colab": {
          "base_uri": "https://localhost:8080/",
          "height": 34
        },
        "id": "18Afo9_DhJnG",
        "outputId": "8982ed97-9f82-436d-a678-73b6ab5f7481"
      },
      "execution_count": 51,
      "outputs": [
        {
          "output_type": "display_data",
          "data": {
            "text/html": [
              "29377"
            ],
            "text/markdown": "29377",
            "text/latex": "29377",
            "text/plain": [
              "[1] 29377"
            ]
          },
          "metadata": {}
        }
      ]
    }
  ]
}