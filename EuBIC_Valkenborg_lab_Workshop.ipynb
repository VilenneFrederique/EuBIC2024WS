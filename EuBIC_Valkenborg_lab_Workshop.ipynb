{
  "nbformat": 4,
  "nbformat_minor": 0,
  "metadata": {
    "colab": {
      "provenance": [],
      "authorship_tag": "ABX9TyNVq2q+2A/oz66nL01AhGt5",
      "include_colab_link": true
    },
    "kernelspec": {
      "name": "ir",
      "display_name": "R"
    },
    "language_info": {
      "name": "R"
    }
  },
  "cells": [
    {
      "cell_type": "markdown",
      "metadata": {
        "id": "view-in-github",
        "colab_type": "text"
      },
      "source": [
        "<a href=\"https://colab.research.google.com/github/VilenneFrederique/EuBIC2024WS/blob/main/EuBIC_Valkenborg_lab_Workshop.ipynb\" target=\"_parent\"><img src=\"https://colab.research.google.com/assets/colab-badge.svg\" alt=\"Open In Colab\"/></a>"
      ]
    },
    {
      "cell_type": "markdown",
      "source": [
        "# EuBIC Winterschool 2024 Valkenborg lab Workshop"
      ],
      "metadata": {
        "id": "PQYrWy1KN-hm"
      }
    },
    {
      "cell_type": "markdown",
      "source": [
        "During todays session we will be exploring several tools developed the Valkenborg lab from UHasselt, Belgium. These tools are mostly focused on the MS1 layer of mass spectrometry-based proteomics. For each tool, we will be giving a short introductory presentation of 15 minutes to give a general idea about the corresponding tools. Each presentation is followed by a 30 minute workshop to acquire some hands-on experience. The syntax used is R. The following tools will be discussed:\n",
        "\n",
        "\n",
        "\n",
        "*   BRAIN: BRAIN, or Baffling Recursive Algorithm for Isotopic distributioN is an algorithm to accurately calculate the aggregated isotope distribution from an elemental composition using a polynomial method.\n",
        "*   Pointless4Peptides: Pointless4Peptides is a novel algorithm to predict the isotope distribution of average peptides based on their monoisotopic mass. Employing penalized spline regression to model the isotope distribution as a function of the monoisotopic mass. The combination of a compositional data representation with penalized spline regression offers a precise and flexible\n",
        "method to model the isotope probabilities. Additionally, acknowledging the importance of Sulphur in the isotope distribution, the model allows for highly accurate detection of Sulphur present in the molecule.\n",
        "*   MIND: MIND or MonoIsotopic liNear preDictor is a framework to accurately predict the monoistopic mass of a precursor peptide, utilizing the most abundant isotope peak.\n",
        "*   QCQuan: QCQuan is an online web application that automatically provides the user with an exploratory and quality control analysis and a differential expression analysis of a quantitative label-based proteomics experiment.\n",
        "\n",
        "\n"
      ],
      "metadata": {
        "id": "1JzZcNIHOIEj"
      }
    },
    {
      "cell_type": "markdown",
      "source": [
        "## Packages"
      ],
      "metadata": {
        "id": "KEQwzrOfR83x"
      }
    },
    {
      "cell_type": "markdown",
      "source": [
        "We start out by loading several packages used throughout the workshops. As they aren't the main focus of this workshop, we will only shortly elaborate their functionality.\n",
        "\n",
        "\n",
        "*   Tidyverse: Tidyverse is a collection of packages with the core message: \"Making data science easier\". It contains packages to facilitate importing data types, data wrangling, visualisations and exporting data.  \n",
        "*   Lijstitem\n",
        "\n"
      ],
      "metadata": {
        "id": "MNPYbhzhSUOg"
      }
    },
    {
      "cell_type": "code",
      "execution_count": 2,
      "metadata": {
        "colab": {
          "base_uri": "https://localhost:8080/",
          "height": 140
        },
        "id": "-AojML1zMvBw",
        "outputId": "b574d73c-2b79-4609-d1b3-9c96787f83e8"
      },
      "outputs": [
        {
          "output_type": "error",
          "ename": "ERROR",
          "evalue": "ignored",
          "traceback": [
            "Error in library(BRAIN): there is no package called ‘BRAIN’\nTraceback:\n",
            "1. library(BRAIN)"
          ]
        }
      ],
      "source": [
        "library(tidyverse)"
      ]
    },
    {
      "cell_type": "markdown",
      "source": [
        "# BRAIN"
      ],
      "metadata": {
        "id": "PDUMC0bQUB1E"
      }
    },
    {
      "cell_type": "markdown",
      "source": [
        "## Presentation"
      ],
      "metadata": {
        "id": "9ZyIaWlDnyZH"
      }
    },
    {
      "cell_type": "markdown",
      "source": [
        "Link towards PPT-Presentation:\n",
        "\n",
        "Link"
      ],
      "metadata": {
        "id": "thtE1uNwnqfV"
      }
    },
    {
      "cell_type": "markdown",
      "source": [
        "## Workshop"
      ],
      "metadata": {
        "id": "KfKY28Lnn26U"
      }
    },
    {
      "cell_type": "markdown",
      "source": [
        "First of all, BRAIN was compiled as an R-package, easily installable. An in-depth documantation can be found on:\n",
        "\n",
        "https://www.bioconductor.org/packages/release/bioc/manuals/BRAIN/man/BRAIN.pdf\n",
        "\n",
        "As a short reiteration:\n",
        "BRAIN uses an algebraic approach to calculate the aggregated isotope distribution and masses for each aggregated isotopic variant for chemical components built from carbon, hydrogen, oxygen, nitrogen and sulfur such as peptides.\n"
      ],
      "metadata": {
        "id": "WpaTuabvn59m"
      }
    },
    {
      "cell_type": "code",
      "source": [
        "if (!require(\"BiocManager\", quietly = TRUE))\n",
        "    install.packages(\"BiocManager\")\n",
        "\n",
        "BiocManager::install(\"BRAIN\")"
      ],
      "metadata": {
        "colab": {
          "base_uri": "https://localhost:8080/"
        },
        "id": "RHA_oc679U7i",
        "outputId": "f24536a6-8596-4daa-ff09-88b2e3d5855c"
      },
      "execution_count": 1,
      "outputs": [
        {
          "output_type": "stream",
          "name": "stderr",
          "text": [
            "Installing package into ‘/usr/local/lib/R/site-library’\n",
            "(as ‘lib’ is unspecified)\n",
            "\n",
            "'getOption(\"repos\")' replaces Bioconductor standard repositories, see\n",
            "'help(\"repositories\", package = \"BiocManager\")' for details.\n",
            "Replacement repositories:\n",
            "    CRAN: https://cran.rstudio.com\n",
            "\n",
            "Bioconductor version 3.18 (BiocManager 1.30.22), R 4.3.2 (2023-10-31)\n",
            "\n",
            "Installing package(s) 'BiocVersion', 'BRAIN'\n",
            "\n",
            "also installing the dependencies ‘bitops’, ‘zlibbioc’, ‘RCurl’, ‘GenomeInfoDbData’, ‘Rcpp’, ‘BiocGenerics’, ‘S4Vectors’, ‘IRanges’, ‘XVector’, ‘GenomeInfoDb’, ‘PolynomF’, ‘Biostrings’\n",
            "\n",
            "\n",
            "Old packages: 'bit', 'bslib', 'curl', 'devtools', 'gargle', 'haven', 'highr',\n",
            "  'isoband', 'openssl', 'ragg', 'roxygen2', 'scales', 'stringi', 'textshaping',\n",
            "  'tinytex', 'whisker', 'boot', 'cluster', 'foreign', 'Matrix', 'nlme'\n",
            "\n"
          ]
        }
      ]
    },
    {
      "cell_type": "markdown",
      "source": [
        "We will shortly iterate over several of the key-functionalities of the package during the workshop and demonstrate it on a theoretical dataset.\n",
        "\n",
        "As a theoretical dataset, we start out by performing an in-silico digestion of the entire UNIPROT database of canonical human reviewed proteins using trypsin [1]. The human proteome contains 20.428 proteins (01/12/2023).\n",
        "All sequences are available in a FASTA-format on the GitHub page and can be loaded using the code chunk below. In order to save computational time, we will randomly sample 1.000 proteins using the seed \"2024\".\n",
        "\n",
        "\n",
        "\n",
        "UNIPROT reference:\n",
        "\n",
        "Bateman, A., Martin, M., Orchard, S., Magrane, M., Ahmad, S., Alpi, E., Bowler-Barnett, E., Britto, R., Bye-A-Jee, H., Cukura, A., Denny, P., Doğan, T., Ebenezer, T. E., Fan, J., Garmiri, P., Gonzales, L., Hatton-Ellis, E., Hussein, A., Ignatchenko, A., . . . Sundaram, S. (2022). UniProt: The Universal Protein Knowledgebase in 2023. Nucleic Acids Research, 51(D1), D523–D531. https://doi.org/10.1093/nar/gkac1052"
      ],
      "metadata": {
        "id": "-toq1O2c_GdR"
      }
    },
    {
      "cell_type": "code",
      "source": [],
      "metadata": {
        "id": "MJqtbLs3TMlG"
      },
      "execution_count": null,
      "outputs": []
    }
  ]
}